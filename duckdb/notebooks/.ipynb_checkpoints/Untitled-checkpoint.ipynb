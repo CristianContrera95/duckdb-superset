{
 "cells": [
  {
   "cell_type": "code",
   "execution_count": 1,
   "id": "6a983aef-ebce-4671-af34-e7db93be5d13",
   "metadata": {},
   "outputs": [],
   "source": [
    "from adbc_driver_flightsql import dbapi as flight_sql, DatabaseOptions\n",
    "\n",
    "flight_password = \"flight_password\" # Use an env var in production code!"
   ]
  },
  {
   "cell_type": "code",
   "execution_count": 4,
   "id": "53025bd1-9821-4d12-a317-d002c4466965",
   "metadata": {},
   "outputs": [
    {
     "ename": "OperationalError",
     "evalue": "IO: [FlightSQL] connection error: desc = \"transport: authentication handshake failed: EOF\" (Unavailable; AuthenticateBasicToken)",
     "output_type": "error",
     "traceback": [
      "\u001b[0;31m---------------------------------------------------------------------------\u001b[0m",
      "\u001b[0;31mOperationalError\u001b[0m                          Traceback (most recent call last)",
      "Cell \u001b[0;32mIn[4], line 1\u001b[0m\n\u001b[0;32m----> 1\u001b[0m \u001b[38;5;28;01mwith\u001b[39;00m \u001b[43mflight_sql\u001b[49m\u001b[38;5;241;43m.\u001b[39;49m\u001b[43mconnect\u001b[49m\u001b[43m(\u001b[49m\u001b[43muri\u001b[49m\u001b[38;5;241;43m=\u001b[39;49m\u001b[38;5;124;43m\"\u001b[39;49m\u001b[38;5;124;43mgrpc+tls://localhost:31337\u001b[39;49m\u001b[38;5;124;43m\"\u001b[39;49m\u001b[43m,\u001b[49m\n\u001b[1;32m      2\u001b[0m \u001b[43m                        \u001b[49m\u001b[43mdb_kwargs\u001b[49m\u001b[38;5;241;43m=\u001b[39;49m\u001b[43m{\u001b[49m\u001b[38;5;124;43m\"\u001b[39;49m\u001b[38;5;124;43musername\u001b[39;49m\u001b[38;5;124;43m\"\u001b[39;49m\u001b[43m:\u001b[49m\u001b[43m \u001b[49m\u001b[38;5;124;43m\"\u001b[39;49m\u001b[38;5;124;43mflight_username\u001b[39;49m\u001b[38;5;124;43m\"\u001b[39;49m\u001b[43m,\u001b[49m\n\u001b[1;32m      3\u001b[0m \u001b[43m                                   \u001b[49m\u001b[38;5;124;43m\"\u001b[39;49m\u001b[38;5;124;43mpassword\u001b[39;49m\u001b[38;5;124;43m\"\u001b[39;49m\u001b[43m:\u001b[49m\u001b[43m \u001b[49m\u001b[43mflight_password\u001b[49m\u001b[43m,\u001b[49m\n\u001b[1;32m      4\u001b[0m \u001b[43m                                   \u001b[49m\u001b[43mDatabaseOptions\u001b[49m\u001b[38;5;241;43m.\u001b[39;49m\u001b[43mTLS_SKIP_VERIFY\u001b[49m\u001b[38;5;241;43m.\u001b[39;49m\u001b[43mvalue\u001b[49m\u001b[43m:\u001b[49m\u001b[43m \u001b[49m\u001b[38;5;124;43m\"\u001b[39;49m\u001b[38;5;124;43mtrue\u001b[39;49m\u001b[38;5;124;43m\"\u001b[39;49m\u001b[43m \u001b[49m\u001b[38;5;66;43;03m# Not needed if you use a trusted CA-signed TLS cert\u001b[39;49;00m\n\u001b[1;32m      5\u001b[0m \u001b[43m                                   \u001b[49m\u001b[43m}\u001b[49m\n\u001b[1;32m      6\u001b[0m \u001b[43m                        \u001b[49m\u001b[43m)\u001b[49m \u001b[38;5;28;01mas\u001b[39;00m conn:\n\u001b[1;32m      7\u001b[0m    \u001b[38;5;28;01mwith\u001b[39;00m conn\u001b[38;5;241m.\u001b[39mcursor() \u001b[38;5;28;01mas\u001b[39;00m cur:\n\u001b[1;32m      8\u001b[0m        cur\u001b[38;5;241m.\u001b[39mexecute(\u001b[38;5;124m\"\u001b[39m\u001b[38;5;124mSHOW TABLES\u001b[39m\u001b[38;5;124m\"\u001b[39m)\n",
      "File \u001b[0;32m~/.local/fullenv/lib/python3.10/site-packages/adbc_driver_flightsql/dbapi.py:120\u001b[0m, in \u001b[0;36mconnect\u001b[0;34m(uri, db_kwargs, conn_kwargs, **kwargs)\u001b[0m\n\u001b[1;32m    118\u001b[0m \u001b[38;5;28;01mtry\u001b[39;00m:\n\u001b[1;32m    119\u001b[0m     db \u001b[38;5;241m=\u001b[39m adbc_driver_flightsql\u001b[38;5;241m.\u001b[39mconnect(uri, db_kwargs\u001b[38;5;241m=\u001b[39mdb_kwargs)\n\u001b[0;32m--> 120\u001b[0m     conn \u001b[38;5;241m=\u001b[39m \u001b[43madbc_driver_manager\u001b[49m\u001b[38;5;241;43m.\u001b[39;49m\u001b[43mAdbcConnection\u001b[49m\u001b[43m(\u001b[49m\u001b[43mdb\u001b[49m\u001b[43m,\u001b[49m\u001b[43m \u001b[49m\u001b[38;5;241;43m*\u001b[39;49m\u001b[38;5;241;43m*\u001b[39;49m\u001b[43m(\u001b[49m\u001b[43mconn_kwargs\u001b[49m\u001b[43m \u001b[49m\u001b[38;5;129;43;01mor\u001b[39;49;00m\u001b[43m \u001b[49m\u001b[43m{\u001b[49m\u001b[43m}\u001b[49m\u001b[43m)\u001b[49m\u001b[43m)\u001b[49m\n\u001b[1;32m    121\u001b[0m     \u001b[38;5;28;01mreturn\u001b[39;00m adbc_driver_manager\u001b[38;5;241m.\u001b[39mdbapi\u001b[38;5;241m.\u001b[39mConnection(db, conn, \u001b[38;5;241m*\u001b[39m\u001b[38;5;241m*\u001b[39mkwargs)\n\u001b[1;32m    122\u001b[0m \u001b[38;5;28;01mexcept\u001b[39;00m \u001b[38;5;167;01mException\u001b[39;00m:\n",
      "File \u001b[0;32m~/.local/fullenv/lib/python3.10/site-packages/adbc_driver_manager/_lib.pyx:681\u001b[0m, in \u001b[0;36madbc_driver_manager._lib.AdbcConnection.__init__\u001b[0;34m()\u001b[0m\n",
      "File \u001b[0;32m~/.local/fullenv/lib/python3.10/site-packages/adbc_driver_manager/_lib.pyx:237\u001b[0m, in \u001b[0;36madbc_driver_manager._lib.check_error\u001b[0;34m()\u001b[0m\n",
      "\u001b[0;31mOperationalError\u001b[0m: IO: [FlightSQL] connection error: desc = \"transport: authentication handshake failed: EOF\" (Unavailable; AuthenticateBasicToken)"
     ]
    }
   ],
   "source": [
    "\n",
    "with flight_sql.connect(uri=\"grpc+tls://localhost:31337\",\n",
    "                        db_kwargs={\"username\": \"flight_username\",\n",
    "                                   \"password\": flight_password,\n",
    "                                   DatabaseOptions.TLS_SKIP_VERIFY.value: \"true\" # Not needed if you use a trusted CA-signed TLS cert\n",
    "                                   }\n",
    "                        ) as conn:\n",
    "   with conn.cursor() as cur:\n",
    "       cur.execute(\"SHOW TABLES\")\n",
    "       x = cur.fetch_arrow_table()\n",
    "       print(x)"
   ]
  },
  {
   "cell_type": "code",
   "execution_count": null,
   "id": "ccfdd58e-6c3f-4cf1-ab6e-2745ec9960e2",
   "metadata": {},
   "outputs": [],
   "source": []
  }
 ],
 "metadata": {
  "kernelspec": {
   "display_name": "Python 3 (ipykernel)",
   "language": "python",
   "name": "python3"
  },
  "language_info": {
   "codemirror_mode": {
    "name": "ipython",
    "version": 3
   },
   "file_extension": ".py",
   "mimetype": "text/x-python",
   "name": "python",
   "nbconvert_exporter": "python",
   "pygments_lexer": "ipython3",
   "version": "3.10.12"
  }
 },
 "nbformat": 4,
 "nbformat_minor": 5
}
