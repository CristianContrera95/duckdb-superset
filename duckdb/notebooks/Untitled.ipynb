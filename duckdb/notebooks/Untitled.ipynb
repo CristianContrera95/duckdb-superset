{
 "cells": [
  {
   "cell_type": "code",
   "execution_count": 5,
   "id": "6a983aef-ebce-4671-af34-e7db93be5d13",
   "metadata": {},
   "outputs": [],
   "source": [
    "from adbc_driver_flightsql import dbapi as flight_sql, DatabaseOptions\n",
    "\n",
    "flight_password = \"flight_password\" # Use an env var in production code!"
   ]
  },
  {
   "cell_type": "code",
   "execution_count": 6,
   "id": "53025bd1-9821-4d12-a317-d002c4466965",
   "metadata": {},
   "outputs": [
    {
     "name": "stdout",
     "output_type": "stream",
     "text": [
      "pyarrow.Table\n",
      "name: string\n",
      "----\n",
      "name: [[\"customer\",\"lineitem\",\"nation\",\"orders\",\"part\",\"partsupp\",\"region\",\"supplier\"]]\n"
     ]
    }
   ],
   "source": [
    "\n",
    "with flight_sql.connect(uri=\"grpc+tls://localhost:31337\",\n",
    "                        db_kwargs={\"username\": \"flight_username\",\n",
    "                                   \"password\": flight_password,\n",
    "                                   DatabaseOptions.TLS_SKIP_VERIFY.value: \"true\" # Not needed if you use a trusted CA-signed TLS cert\n",
    "                                   }\n",
    "                        ) as conn:\n",
    "   with conn.cursor() as cur:\n",
    "       cur.execute(\"SHOW TABLES\")\n",
    "       x = cur.fetch_arrow_table()\n",
    "       print(x)"
   ]
  },
  {
   "cell_type": "code",
   "execution_count": null,
   "id": "ccfdd58e-6c3f-4cf1-ab6e-2745ec9960e2",
   "metadata": {},
   "outputs": [],
   "source": []
  }
 ],
 "metadata": {
  "kernelspec": {
   "display_name": "Python 3 (ipykernel)",
   "language": "python",
   "name": "python3"
  },
  "language_info": {
   "codemirror_mode": {
    "name": "ipython",
    "version": 3
   },
   "file_extension": ".py",
   "mimetype": "text/x-python",
   "name": "python",
   "nbconvert_exporter": "python",
   "pygments_lexer": "ipython3",
   "version": "3.10.12"
  }
 },
 "nbformat": 4,
 "nbformat_minor": 5
}
